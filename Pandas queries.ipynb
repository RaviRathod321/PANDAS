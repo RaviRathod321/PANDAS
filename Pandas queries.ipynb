{
 "cells": [
  {
   "cell_type": "code",
   "execution_count": null,
   "id": "7d3f3bae",
   "metadata": {},
   "outputs": [],
   "source": [
    "1\tRead the excel file, or copy the DataFrame.\n",
    "2\tHow many rows and columns are there?\n",
    "3\tRead the first 4 rows\n",
    "4\tHow many rows are there?\n",
    "5\tDisplay the columns of the DataFrame\n",
    "6\tDisplay the first 5 records of NAME column of the DataFrame\n",
    "7\tDisplay highest 5 records based on the MARK column.\n",
    "8\tDisplay all classes in CLASS column ( Unique class )\n",
    "9\tHow to check the dimensions (rows and columns) of a DataFrame?\n",
    "10\tHow to get a concise summary of the DataFrame, including column data types and missing values?\n",
    "11\tHow to get the column names of a DataFrame?\n",
    "12\tHow to get descriptive statistics of numeric columns in the DataFrame?\n",
    "13\tHow to access the first few rows of a DataFrame?\n",
    "14\tHow to filter rows based on a condition?\n",
    "15\tFor example, filter rows where the \"Mark\" column is greater than 60.\n",
    "16\tHow to select specific columns from a DataFrame?\n",
    "17\tFor example, select only the \"Name\" and \"Gender\" columns.\n",
    "18\tHow to sort the DataFrame based on a column?\n",
    "19\tHow to add a new column to a DataFrame?\n",
    "20\tHow to remove a column from a DataFrame?\n",
    "21\tHow to group the DataFrame by a column and calculate summary statistics?\n",
    "22\tHow to handle missing values in a DataFrame?\n",
    "23\tTo check if there are any missing values:\n",
    "24\tTo drop rows with missing values:\n",
    "25\tTo fill missing values with a specific value:\n",
    "26\tHow to access a specific row in a DataFrame based on its index?\n",
    "27\tHow to filter rows based on multiple conditions?\n",
    "28\tFor example, filter rows where the \"class\" column is Three and the \"mark\" column is More than 50.\n",
    "29\tHow to calculate the total number of missing values in each column?\n",
    "30\tHow to drop rows with missing values for specific columns? ( say Mark column )\n",
    "31\tHow to apply a function to a column in a DataFrame? ( Add 5 mark for all )\n",
    "32\tHow to merge/join two DataFrames based on a common column?\n",
    "33\tHow to group the DataFrame by multiple columns and calculate summary statistics?\n",
    "34\tHow to create a pivot table from a DataFrame?\n",
    "35\tHow to rename columns in a DataFrame?\n",
    "36\tHow to save a DataFrame to a CSV file?\n",
    "37\tHow to calculate the maximum value in a specific column?\n",
    "38\tHow to calculate the average value in a specific column?\n",
    "39\tHow to calculate the average value in a specific column?\n",
    "40\tHow to calculate the total sum of a specific column?\n",
    "41\tHow to count the number of unique values in a column?\n",
    "42\tHow to apply a function to multiple columns and create a new column based on the result? ( find out class rank based on mark )\n",
    "43\tHow to drop duplicate rows from a DataFrame?\n",
    "44\tHow to convert a column to a different data type?\n",
    "45\tHow to apply a filter to a DataFrame based on a list of values?\n",
    "46\tHow to reset the index of a DataFrame?\n",
    "47\tHow to randomly select 7 rows (sample) from a DataFrame?\n",
    "\t\n",
    "How to randomly select 7 rows (sample) from a DataFrame?"
   ]
  },
  {
   "cell_type": "markdown",
   "id": "fc3c9caa",
   "metadata": {},
   "source": [
    "#You can read the file using the DataFrame structure"
   ]
  },
  {
   "cell_type": "code",
   "execution_count": 6,
   "id": "c3fb52c8",
   "metadata": {},
   "outputs": [],
   "source": [
    "import pandas as pd"
   ]
  },
  {
   "cell_type": "code",
   "execution_count": 7,
   "id": "764f125b",
   "metadata": {},
   "outputs": [],
   "source": [
    "df = pd.read_csv(\"D:\\path\\student.csv\")"
   ]
  },
  {
   "cell_type": "code",
   "execution_count": 8,
   "id": "8ce80691",
   "metadata": {},
   "outputs": [
    {
     "name": "stdout",
     "output_type": "stream",
     "text": [
      "    id         name  class  mark  gender\n",
      "0    1     John Deo   Four    75  female\n",
      "1    2     Max Ruin  Three    85    male\n",
      "2    3       Arnold  Three    55    male\n",
      "3    4   Krish Star   Four    60  female\n",
      "4    5    John Mike   Four    60  female\n",
      "5    6    Alex John   Four    55    male\n",
      "6    7  My John Rob  Fifth    78    male\n",
      "7    8       Asruid   Five    85    male\n",
      "8    9      Tes Qry    Six    78    male\n",
      "9   10     Big John   Four    55  female\n",
      "10  11       Ronald    Six    89  female\n",
      "11  12        Recky    Six    94  female\n",
      "12  13          Kty  Seven    88  female\n",
      "13  14         Bigy  Seven    88  female\n",
      "14  15     Tade Row   Four    88    male\n",
      "15  16        Gimmy   Four    88    male\n",
      "16  17        Tumyu    Six    54    male\n",
      "17  18        Honny   Five    75    male\n",
      "18  19        Tinny   Nine    18    male\n",
      "19  20       Jackly   Nine    65  female\n",
      "20  21   Babby John   Four    69  female\n",
      "21  22       Reggid  Seven    55  female\n",
      "22  23        Herod  Eight    79    male\n",
      "23  24    Tiddy Now  Seven    78    male\n",
      "24  25     Giff Tow  Seven    88    male\n",
      "25  26       Crelea  Seven    79    male\n",
      "26  27     Big Nose  Three    81  female\n",
      "27  28    Rojj Base  Seven    86  female\n",
      "28  29  Tess Played  Seven    55    male\n",
      "29  30    Reppy Red    Six    79  female\n",
      "30  31  Marry Toeey   Four    88    male\n",
      "31  32    Binn Rott  Seven    90  female\n",
      "32  33    Kenn Rein    Six    96  female\n",
      "33  34     Gain Toe  Seven    69    male\n",
      "34  35   Rows Noump    Six    88  female\n"
     ]
    }
   ],
   "source": [
    "print(df)"
   ]
  },
  {
   "cell_type": "markdown",
   "id": "5a615e17",
   "metadata": {},
   "source": [
    "#How many rows and columns are there?"
   ]
  },
  {
   "cell_type": "code",
   "execution_count": 17,
   "id": "fd94e958",
   "metadata": {},
   "outputs": [
    {
     "data": {
      "text/plain": [
       "(35, 5)"
      ]
     },
     "execution_count": 17,
     "metadata": {},
     "output_type": "execute_result"
    }
   ],
   "source": [
    "df.shape \n",
    "(35, 5)\n",
    "#Here 35 is the row and 5 is the column, you can find them individually\n",
    "# df.shape[0] #rows\n",
    "# df.shape[1] #columns"
   ]
  },
  {
   "cell_type": "markdown",
   "id": "7237ea18",
   "metadata": {},
   "source": [
    "#Read the first 4 rows?"
   ]
  },
  {
   "cell_type": "code",
   "execution_count": 20,
   "id": "c14901c1",
   "metadata": {},
   "outputs": [
    {
     "data": {
      "text/html": [
       "<div>\n",
       "<style scoped>\n",
       "    .dataframe tbody tr th:only-of-type {\n",
       "        vertical-align: middle;\n",
       "    }\n",
       "\n",
       "    .dataframe tbody tr th {\n",
       "        vertical-align: top;\n",
       "    }\n",
       "\n",
       "    .dataframe thead th {\n",
       "        text-align: right;\n",
       "    }\n",
       "</style>\n",
       "<table border=\"1\" class=\"dataframe\">\n",
       "  <thead>\n",
       "    <tr style=\"text-align: right;\">\n",
       "      <th></th>\n",
       "      <th>id</th>\n",
       "      <th>name</th>\n",
       "      <th>class</th>\n",
       "      <th>mark</th>\n",
       "      <th>gender</th>\n",
       "    </tr>\n",
       "  </thead>\n",
       "  <tbody>\n",
       "    <tr>\n",
       "      <th>0</th>\n",
       "      <td>1</td>\n",
       "      <td>John Deo</td>\n",
       "      <td>Four</td>\n",
       "      <td>75</td>\n",
       "      <td>female</td>\n",
       "    </tr>\n",
       "    <tr>\n",
       "      <th>1</th>\n",
       "      <td>2</td>\n",
       "      <td>Max Ruin</td>\n",
       "      <td>Three</td>\n",
       "      <td>85</td>\n",
       "      <td>male</td>\n",
       "    </tr>\n",
       "    <tr>\n",
       "      <th>2</th>\n",
       "      <td>3</td>\n",
       "      <td>Arnold</td>\n",
       "      <td>Three</td>\n",
       "      <td>55</td>\n",
       "      <td>male</td>\n",
       "    </tr>\n",
       "    <tr>\n",
       "      <th>3</th>\n",
       "      <td>4</td>\n",
       "      <td>Krish Star</td>\n",
       "      <td>Four</td>\n",
       "      <td>60</td>\n",
       "      <td>female</td>\n",
       "    </tr>\n",
       "  </tbody>\n",
       "</table>\n",
       "</div>"
      ],
      "text/plain": [
       "   id        name  class  mark  gender\n",
       "0   1    John Deo   Four    75  female\n",
       "1   2    Max Ruin  Three    85    male\n",
       "2   3      Arnold  Three    55    male\n",
       "3   4  Krish Star   Four    60  female"
      ]
     },
     "execution_count": 20,
     "metadata": {},
     "output_type": "execute_result"
    }
   ],
   "source": [
    "df.head() #This by default gives 5 values from top\n",
    "# here we need the first 4 fours\n",
    "df.head(4)"
   ]
  },
  {
   "cell_type": "markdown",
   "id": "f4a90a27",
   "metadata": {},
   "source": [
    "#How many rows are there?"
   ]
  },
  {
   "cell_type": "code",
   "execution_count": 28,
   "id": "8a3018cd",
   "metadata": {},
   "outputs": [
    {
     "name": "stdout",
     "output_type": "stream",
     "text": [
      "35\n"
     ]
    }
   ],
   "source": [
    "print(len(df))"
   ]
  },
  {
   "cell_type": "markdown",
   "id": "2638e7dc",
   "metadata": {},
   "source": [
    "#Display the columns of the DataFrame?"
   ]
  },
  {
   "cell_type": "code",
   "execution_count": 29,
   "id": "cd3fe135",
   "metadata": {},
   "outputs": [
    {
     "data": {
      "text/plain": [
       "Index(['id', 'name', 'class', 'mark', 'gender'], dtype='object')"
      ]
     },
     "execution_count": 29,
     "metadata": {},
     "output_type": "execute_result"
    }
   ],
   "source": [
    "df.columns"
   ]
  },
  {
   "cell_type": "markdown",
   "id": "5e7db67e",
   "metadata": {},
   "source": [
    "#Display the first 5 records of NAME column of the DataFrame?"
   ]
  },
  {
   "cell_type": "code",
   "execution_count": 33,
   "id": "cd41fa60",
   "metadata": {},
   "outputs": [
    {
     "data": {
      "text/plain": [
       "0      John Deo\n",
       "1      Max Ruin\n",
       "2        Arnold\n",
       "3    Krish Star\n",
       "4     John Mike\n",
       "Name: name, dtype: object"
      ]
     },
     "execution_count": 33,
     "metadata": {},
     "output_type": "execute_result"
    }
   ],
   "source": [
    "df[0:5] #displays the first 5 records\n",
    "#to display the first 5 records of name \n",
    "df['name'][0:5]"
   ]
  },
  {
   "cell_type": "markdown",
   "id": "2b53b86d",
   "metadata": {},
   "source": [
    "#Display highest 5 records based on the MARK column."
   ]
  },
  {
   "cell_type": "code",
   "execution_count": 43,
   "id": "e2f7dea6",
   "metadata": {},
   "outputs": [
    {
     "name": "stdout",
     "output_type": "stream",
     "text": [
      "    id       name  class  mark  gender\n",
      "32  33  Kenn Rein    Six    96  female\n",
      "11  12      Recky    Six    94  female\n",
      "31  32  Binn Rott  Seven    90  female\n",
      "10  11     Ronald    Six    89  female\n",
      "24  25   Giff Tow  Seven    88    male\n"
     ]
    }
   ],
   "source": [
    "#This sorts all value from Mark\n",
    "\n",
    "d = df.sort_values(['mark'], ascending= False)\n",
    "print(d[:5])"
   ]
  },
  {
   "cell_type": "markdown",
   "id": "f37fb4ff",
   "metadata": {},
   "source": [
    "#Display all classes in CLASS column ( Unique class )"
   ]
  },
  {
   "cell_type": "code",
   "execution_count": 44,
   "id": "c9a49e08",
   "metadata": {},
   "outputs": [
    {
     "data": {
      "text/plain": [
       "0      Four\n",
       "1     Three\n",
       "2     Three\n",
       "3      Four\n",
       "4      Four\n",
       "5      Four\n",
       "6     Fifth\n",
       "7      Five\n",
       "8       Six\n",
       "9      Four\n",
       "10      Six\n",
       "11      Six\n",
       "12    Seven\n",
       "13    Seven\n",
       "14     Four\n",
       "15     Four\n",
       "16      Six\n",
       "17     Five\n",
       "18     Nine\n",
       "19     Nine\n",
       "20     Four\n",
       "21    Seven\n",
       "22    Eight\n",
       "23    Seven\n",
       "24    Seven\n",
       "25    Seven\n",
       "26    Three\n",
       "27    Seven\n",
       "28    Seven\n",
       "29      Six\n",
       "30     Four\n",
       "31    Seven\n",
       "32      Six\n",
       "33    Seven\n",
       "34      Six\n",
       "Name: class, dtype: object"
      ]
     },
     "execution_count": 44,
     "metadata": {},
     "output_type": "execute_result"
    }
   ],
   "source": [
    "#This will give us class\n",
    "\n",
    "df['class']"
   ]
  },
  {
   "cell_type": "code",
   "execution_count": 49,
   "id": "6b232d78",
   "metadata": {},
   "outputs": [
    {
     "data": {
      "text/plain": [
       "array(['Four', 'Three', 'Fifth', 'Five', 'Six', 'Seven', 'Nine', 'Eight'],\n",
       "      dtype=object)"
      ]
     },
     "execution_count": 49,
     "metadata": {},
     "output_type": "execute_result"
    }
   ],
   "source": [
    "#This gives us the unique class\n",
    "(df['class'].unique())"
   ]
  },
  {
   "cell_type": "code",
   "execution_count": null,
   "id": "f512ab93",
   "metadata": {},
   "outputs": [],
   "source": []
  }
 ],
 "metadata": {
  "kernelspec": {
   "display_name": "Python 3 (ipykernel)",
   "language": "python",
   "name": "python3"
  },
  "language_info": {
   "codemirror_mode": {
    "name": "ipython",
    "version": 3
   },
   "file_extension": ".py",
   "mimetype": "text/x-python",
   "name": "python",
   "nbconvert_exporter": "python",
   "pygments_lexer": "ipython3",
   "version": "3.11.5"
  }
 },
 "nbformat": 4,
 "nbformat_minor": 5
}
