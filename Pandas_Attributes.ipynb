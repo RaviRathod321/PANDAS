{
 "cells": [
  {
   "cell_type": "code",
   "execution_count": 1,
   "id": "9a0c2a6e",
   "metadata": {},
   "outputs": [],
   "source": [
    "import pandas as pd"
   ]
  },
  {
   "cell_type": "markdown",
   "id": "ad467b71",
   "metadata": {},
   "source": [
    "#We are assigning a variable to the series, since it gets handy."
   ]
  },
  {
   "cell_type": "code",
   "execution_count": 6,
   "id": "ba0d5ddf",
   "metadata": {},
   "outputs": [],
   "source": [
    "a = pd.Series([10,20,30,440,55], name = 'Numbers')"
   ]
  },
  {
   "cell_type": "code",
   "execution_count": 7,
   "id": "63059a17",
   "metadata": {},
   "outputs": [
    {
     "name": "stdout",
     "output_type": "stream",
     "text": [
      "0     10\n",
      "1     20\n",
      "2     30\n",
      "3    440\n",
      "4     55\n",
      "Name: Numbers, dtype: int64\n"
     ]
    }
   ],
   "source": [
    "print(a)"
   ]
  },
  {
   "cell_type": "code",
   "execution_count": 8,
   "id": "c8875d4f",
   "metadata": {},
   "outputs": [
    {
     "data": {
      "text/plain": [
       "RangeIndex(start=0, stop=5, step=1)"
      ]
     },
     "execution_count": 8,
     "metadata": {},
     "output_type": "execute_result"
    }
   ],
   "source": [
    "a.index"
   ]
  },
  {
   "cell_type": "code",
   "execution_count": 9,
   "id": "df09d071",
   "metadata": {},
   "outputs": [],
   "source": [
    "a = pd.Series([10,20,30,440,55], index= ['a', 'b', 'c', 'd', 'e'], name = 'Numbers')"
   ]
  },
  {
   "cell_type": "code",
   "execution_count": 10,
   "id": "c7bd51ac",
   "metadata": {},
   "outputs": [
    {
     "name": "stdout",
     "output_type": "stream",
     "text": [
      "a     10\n",
      "b     20\n",
      "c     30\n",
      "d    440\n",
      "e     55\n",
      "Name: Numbers, dtype: int64\n"
     ]
    }
   ],
   "source": [
    "print(a)"
   ]
  },
  {
   "cell_type": "markdown",
   "id": "5c94b772",
   "metadata": {},
   "source": [
    "#HERE THE INDEX WILL ONLY RETURN THE INDEX VALUE "
   ]
  },
  {
   "cell_type": "code",
   "execution_count": 11,
   "id": "aefbba2c",
   "metadata": {},
   "outputs": [
    {
     "data": {
      "text/plain": [
       "Index(['a', 'b', 'c', 'd', 'e'], dtype='object')"
      ]
     },
     "execution_count": 11,
     "metadata": {},
     "output_type": "execute_result"
    }
   ],
   "source": [
    "a.index"
   ]
  },
  {
   "cell_type": "code",
   "execution_count": 13,
   "id": "9c077f5c",
   "metadata": {},
   "outputs": [
    {
     "data": {
      "text/plain": [
       "<PandasArray>\n",
       "[10, 20, 30, 440, 55]\n",
       "Length: 5, dtype: int64"
      ]
     },
     "execution_count": 13,
     "metadata": {},
     "output_type": "execute_result"
    }
   ],
   "source": [
    "a.array"
   ]
  },
  {
   "cell_type": "markdown",
   "id": "0cd9ff7f",
   "metadata": {},
   "source": [
    "#This gives the shape of the series"
   ]
  },
  {
   "cell_type": "code",
   "execution_count": 14,
   "id": "cfb4959d",
   "metadata": {},
   "outputs": [
    {
     "data": {
      "text/plain": [
       "(5,)"
      ]
     },
     "execution_count": 14,
     "metadata": {},
     "output_type": "execute_result"
    }
   ],
   "source": [
    "a.shape"
   ]
  },
  {
   "cell_type": "markdown",
   "id": "8b912281",
   "metadata": {},
   "source": [
    "#This gives us the dimension of the series "
   ]
  },
  {
   "cell_type": "code",
   "execution_count": 15,
   "id": "77dadee8",
   "metadata": {},
   "outputs": [
    {
     "data": {
      "text/plain": [
       "1"
      ]
     },
     "execution_count": 15,
     "metadata": {},
     "output_type": "execute_result"
    }
   ],
   "source": [
    "a.ndim"
   ]
  },
  {
   "cell_type": "markdown",
   "id": "eea1065a",
   "metadata": {},
   "source": [
    "#Bytes occupied by the series"
   ]
  },
  {
   "cell_type": "code",
   "execution_count": 17,
   "id": "61e17f7c",
   "metadata": {},
   "outputs": [
    {
     "data": {
      "text/plain": [
       "40"
      ]
     },
     "execution_count": 17,
     "metadata": {},
     "output_type": "execute_result"
    }
   ],
   "source": [
    "a.nbytes"
   ]
  },
  {
   "cell_type": "markdown",
   "id": "cf272d47",
   "metadata": {},
   "source": [
    "#Memory_usage results in memory usage of the series, however it also includes the value of each element \n",
    "#to find the index of the list you'll have to add the index=False parameter"
   ]
  },
  {
   "cell_type": "code",
   "execution_count": 19,
   "id": "cb59f3ab",
   "metadata": {},
   "outputs": [
    {
     "data": {
      "text/plain": [
       "<bound method Series.memory_usage of a     10\n",
       "b     20\n",
       "c     30\n",
       "d    440\n",
       "e     55\n",
       "Name: Numbers, dtype: int64>"
      ]
     },
     "execution_count": 19,
     "metadata": {},
     "output_type": "execute_result"
    }
   ],
   "source": [
    "a.memory_usage"
   ]
  },
  {
   "cell_type": "code",
   "execution_count": 20,
   "id": "65fa6194",
   "metadata": {},
   "outputs": [
    {
     "data": {
      "text/plain": [
       "40"
      ]
     },
     "execution_count": 20,
     "metadata": {},
     "output_type": "execute_result"
    }
   ],
   "source": [
    "a.memory_usage(index=False)"
   ]
  },
  {
   "cell_type": "code",
   "execution_count": 21,
   "id": "c1d4b256",
   "metadata": {},
   "outputs": [
    {
     "data": {
      "text/plain": [
       "5"
      ]
     },
     "execution_count": 21,
     "metadata": {},
     "output_type": "execute_result"
    }
   ],
   "source": [
    "a.size"
   ]
  },
  {
   "cell_type": "code",
   "execution_count": 22,
   "id": "2426d825",
   "metadata": {},
   "outputs": [
    {
     "data": {
      "text/plain": [
       "'Numbers'"
      ]
     },
     "execution_count": 22,
     "metadata": {},
     "output_type": "execute_result"
    }
   ],
   "source": [
    "a.name"
   ]
  },
  {
   "cell_type": "code",
   "execution_count": 23,
   "id": "429dbb18",
   "metadata": {},
   "outputs": [
    {
     "data": {
      "text/plain": [
       "False"
      ]
     },
     "execution_count": 23,
     "metadata": {},
     "output_type": "execute_result"
    }
   ],
   "source": [
    "a.empty"
   ]
  },
  {
   "cell_type": "markdown",
   "id": "03fa8756",
   "metadata": {},
   "source": [
    "#A1 is a empty series hence the emoty 'TRUE' and size '0'"
   ]
  },
  {
   "cell_type": "code",
   "execution_count": 24,
   "id": "7917f7b7",
   "metadata": {},
   "outputs": [],
   "source": [
    "a1 = pd.Series()"
   ]
  },
  {
   "cell_type": "code",
   "execution_count": 25,
   "id": "f1d219ba",
   "metadata": {},
   "outputs": [
    {
     "name": "stdout",
     "output_type": "stream",
     "text": [
      "Series([], dtype: object)\n"
     ]
    }
   ],
   "source": [
    "print(a1)"
   ]
  },
  {
   "cell_type": "code",
   "execution_count": 26,
   "id": "6bfe64a6",
   "metadata": {},
   "outputs": [
    {
     "data": {
      "text/plain": [
       "True"
      ]
     },
     "execution_count": 26,
     "metadata": {},
     "output_type": "execute_result"
    }
   ],
   "source": [
    "a1.empty"
   ]
  },
  {
   "cell_type": "code",
   "execution_count": 27,
   "id": "45a35aed",
   "metadata": {},
   "outputs": [
    {
     "data": {
      "text/plain": [
       "0"
      ]
     },
     "execution_count": 27,
     "metadata": {},
     "output_type": "execute_result"
    }
   ],
   "source": [
    "a1.size"
   ]
  },
  {
   "cell_type": "code",
   "execution_count": null,
   "id": "fb100401",
   "metadata": {},
   "outputs": [],
   "source": []
  }
 ],
 "metadata": {
  "kernelspec": {
   "display_name": "Python 3 (ipykernel)",
   "language": "python",
   "name": "python3"
  },
  "language_info": {
   "codemirror_mode": {
    "name": "ipython",
    "version": 3
   },
   "file_extension": ".py",
   "mimetype": "text/x-python",
   "name": "python",
   "nbconvert_exporter": "python",
   "pygments_lexer": "ipython3",
   "version": "3.11.5"
  }
 },
 "nbformat": 4,
 "nbformat_minor": 5
}
